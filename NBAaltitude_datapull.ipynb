{
 "cells": [
  {
   "cell_type": "code",
   "execution_count": 1,
   "id": "e75aaa69-4a0e-4fac-8224-d3f30a1f58cb",
   "metadata": {},
   "outputs": [],
   "source": [
    "import pandas as pd\n",
    "import time\n",
    "import numpy as np\n",
    "from nba_api.stats.endpoints import playercareerstats\n",
    "import nba_api.stats.endpoints as nbaapi\n",
    "\n",
    "pd.set_option('display.max_columns', 500)\n"
   ]
  },
  {
   "cell_type": "code",
   "execution_count": 2,
   "id": "3f980423-85b9-4269-b30c-b177d5772710",
   "metadata": {},
   "outputs": [],
   "source": [
    "from nba_api.stats.static import players\n",
    "from nba_api.stats.static import teams\n",
    "\n",
    "# get_players returns a list of dictionaries, each representing a player.\n",
    "nba_players = players.get_players()\n",
    "nba_teams = teams.get_teams()\n",
    "\n",
    "nba_players = pd.DataFrame(nba_players)\n",
    "nba_teams = pd.DataFrame(nba_teams)\n",
    "\n",
    "active_plyaers = nba_players[nba_players['is_active']]\n",
    "\n",
    "seasons = []\n",
    "for i in list(range(1983,2023)):\n",
    "    seasons.append(str(i)+'-'+str(i+1)[2:])\n",
    "seasons = seasons[::-1]\n",
    "    \n",
    "### \n",
    "testplayer='203076'\n",
    "testgame = '0022201200'\n",
    "testteam = '1610612755'"
   ]
  },
  {
   "cell_type": "code",
   "execution_count": null,
   "id": "9d93d228-2f71-43a9-9692-6ee9058b8c44",
   "metadata": {},
   "outputs": [],
   "source": []
  },
  {
   "cell_type": "code",
   "execution_count": 81,
   "id": "bdb1ce57-69b4-4375-a6dc-b50d15787f36",
   "metadata": {},
   "outputs": [],
   "source": [
    "from nba_api.stats.endpoints import leaguegamefinder\n",
    "\n",
    "result = leaguegamefinder.LeagueGameFinder()\n",
    "all_games = result.get_data_frames()[0]\n",
    "\n",
    "listframe = []\n",
    "for i in seasons[:10]:\n",
    "    playerfinder = nbaapi.leaguedashplayerbiostats.LeagueDashPlayerBioStats(season=i).get_data_frames()[0]\n",
    "    playerfinder['season']=i\n",
    "    listframe.append(playerfinder)\n",
    "    time.sleep(.5)\n",
    "allplayers = pd.concat(listframe,axis=0)\n",
    "\n",
    "listframe = []\n",
    "for i in seasons[:10]:\n",
    "    gamefinder = leaguegamefinder.LeagueGameFinder(league_id_nullable='00', season_type_nullable=\"Regular Season\",season_nullable=i).get_data_frames()[0]\n",
    "    listframe.append(gamefinder)\n",
    "    time.sleep(1)\n",
    "gamehistory = pd.concat(listframe,axis=0)\n",
    "gamehistory['GAME_ID'] = pd.to_numeric(gamehistory['GAME_ID'])"
   ]
  },
  {
   "cell_type": "code",
   "execution_count": 3,
   "id": "1097770c-5014-4564-bf54-7f2a7d22f0e7",
   "metadata": {},
   "outputs": [],
   "source": [
    "bxv2 = nbaapi.boxscoreadvancedv2.BoxScoreAdvancedV2(game_id=testgame).get_data_frames()\n"
   ]
  },
  {
   "cell_type": "code",
   "execution_count": null,
   "id": "9bf15f7d-c54a-455e-a854-ca92b916dfb1",
   "metadata": {},
   "outputs": [],
   "source": []
  },
  {
   "cell_type": "code",
   "execution_count": 48,
   "id": "cb3bfe56-491a-4e7b-9f49-65ae593b2885",
   "metadata": {},
   "outputs": [],
   "source": [
    "# wish list\n",
    "# get a some score for last n games played \n",
    "\n",
    "#LeagueDashPlayerBioStats\n",
    "#LeagueDashPtStats\n"
   ]
  },
  {
   "cell_type": "code",
   "execution_count": null,
   "id": "f114d7bd-71d7-464c-a149-55447bb6b46e",
   "metadata": {},
   "outputs": [],
   "source": []
  },
  {
   "cell_type": "code",
   "execution_count": 102,
   "id": "04b7f8f5-aa64-4ea0-ade6-16febe1de2e4",
   "metadata": {},
   "outputs": [],
   "source": [
    "### Accumulate game distance data for PLAYERS\n",
    "\n",
    "# listframe = []\n",
    "# for j in range(22013,22023):\n",
    "#     ghdf = gamehistory[gamehistory['SEASON_ID']==str(j)]\n",
    "#     for i in ghdf['GAME_ID'].drop_duplicates():\n",
    "#         tempdf = nbaapi.boxscoreplayertrackv2.BoxScorePlayerTrackV2(game_id=i).get_data_frames()[0]#[['GAME_ID','TEAM_ID','TEAM_ABBREVIATION','PLAYER_ID','PLAYER_NAME','MIN','SPD','DIST']]\n",
    "#         listframe.append(tempdf)\n",
    "#         time.sleep(2)\n",
    "#     aggdf_player = pd.concat(listframe,axis=0)\n",
    "#     print(j)\n",
    "#     aggdf_player.to_csv('game_player_dist_{}.csv'.format(j),index=None)\n",
    "\n",
    "### Accumulate game distance data for TEAMS\n",
    "\n",
    "# listframe = []\n",
    "# for i in gamehistory['GAME_ID'].drop_duplicates():\n",
    "#     tempdf = nbaapi.boxscoreplayertrackv2.BoxScorePlayerTrackV2(game_id=i).get_data_frames()[1][['GAME_ID','TEAM_ID','DIST']]\n",
    "#     listframe.append(tempdf)\n",
    "#     time.sleep(1)\n",
    "# aggdf = pd.concat(listframe,axis=0)"
   ]
  },
  {
   "cell_type": "code",
   "execution_count": 104,
   "id": "3c3a8274-1534-432a-ac35-2b21f94b25ce",
   "metadata": {},
   "outputs": [],
   "source": [
    "# APPENDING ALL SEASON GAME PLAYER DIST FILES\n",
    "# ldfs = []\n",
    "# for j in range(22013,22023):\n",
    "#     tdf = pd.read_csv('game_player_dist_{}.csv'.format(j))\n",
    "#     ldfs.append(tdf)\n",
    "# fdf = pd.concat(ldfs,axis=0)\n",
    "# fdf.to_csv('game_player_dist.csv',index=None)"
   ]
  },
  {
   "cell_type": "code",
   "execution_count": 117,
   "id": "e04051cd-50a4-4ac8-a92b-236c28dad4c4",
   "metadata": {},
   "outputs": [],
   "source": [
    "fdf.merge(gamehistory[['GAME_ID','GAME_DATE']].drop_duplicates(),on='GAME_ID',how='left').drop_duplicates(subset=['GAME_ID','TEAM_ID','PLAYER_ID']).to_csv('game_player_dist.csv',index=None)"
   ]
  },
  {
   "cell_type": "code",
   "execution_count": 113,
   "id": "da89d8c7-2eeb-4acb-8701-7355be42f0c8",
   "metadata": {},
   "outputs": [],
   "source": []
  },
  {
   "cell_type": "code",
   "execution_count": 98,
   "id": "09ad8aad-110e-4992-91b1-1b521475a66e",
   "metadata": {},
   "outputs": [],
   "source": [
    "df1 = aggdf.merge(gamehistory[['GAME_ID','TEAM_ID','MIN']],on=['GAME_ID','TEAM_ID'],how='left')"
   ]
  },
  {
   "cell_type": "code",
   "execution_count": null,
   "id": "548c7e2a-0569-4d72-a336-487cce3ac7ab",
   "metadata": {},
   "outputs": [],
   "source": []
  },
  {
   "cell_type": "code",
   "execution_count": 343,
   "id": "951d1b76-7578-44a4-8bf8-a7b42e197712",
   "metadata": {},
   "outputs": [],
   "source": [
    "gamehistory['HOME'] = gamehistory.apply(lambda x: 'HOME' if '@' not in x['MATCHUP'] else 'AWAY',axis=1)\n",
    "gamehistory['OPPONENT'] = gamehistory['MATCHUP'].str.split(' ',2).apply(lambda x: x[-1])\n",
    "gamehistory['HOMEAWAY'] = gamehistory['MATCHUP'].apply(lambda x: 'HOME' if 'vs.' in x else 'AWAY')\n",
    "\n",
    "gh = gamehistory[['GAME_ID','TEAM_ID','TEAM_ABBREVIATION','HOMEAWAY','OPPONENT','WL','PTS','MIN','MATCHUP']]\n",
    "\n",
    "gh = gh.merge(highalt[['TEAM','HIGHALT']],left_on='TEAM_ABBREVIATION',right_on='TEAM',how='inner')\n",
    "gh = gh.merge(highalt[['TEAM','HIGHALT']],left_on='OPPONENT',right_on='TEAM',how='inner',suffixes=['_home','_away'])\n",
    "\n",
    "gh = gh.merge(highalt,left_on='TEAM_ABBREVIATION',right_on='TEAM',how='inner')\n",
    "df1 = aggdf.merge(gh,on=['GAME_ID','TEAM_ID'],how='left').sort_values('GAME_ID')"
   ]
  },
  {
   "cell_type": "code",
   "execution_count": 367,
   "id": "7025d655-060f-4027-b2d4-8b956820940d",
   "metadata": {},
   "outputs": [],
   "source": [
    "df2 = df1[df1['MIN']<242]\n",
    "df2 = df2[df2['DIST']>1]\n",
    "df1.groupby(['TEAM_ABBREVIATION','HIGHALT_home','HIGHALT_away'])['DIST'].agg(np.mean).to_csv('team_meandisttravel_homeandaway.csv')\n",
    "df2[['TEAM_ABBREVIATION','HIGHALT_home','HIGHALT_away','DIST']].to_csv('team_meandisttravel_homeandaway_nongrouped.csv')"
   ]
  },
  {
   "cell_type": "code",
   "execution_count": 365,
   "id": "7a668c3b-2138-4e20-b07a-6aaaa2622a95",
   "metadata": {},
   "outputs": [],
   "source": []
  },
  {
   "cell_type": "code",
   "execution_count": 310,
   "id": "3f6ddde7-68ce-499f-adb8-596488aa0edc",
   "metadata": {},
   "outputs": [],
   "source": [
    "# dfaway = df1[df1['HOMEAWAY']=='AWAY']\n",
    "# dfaway['ALTDIF'] = dfaway['ALTITUDE_HOME'] - dfaway['ALTITUDE_AWAY']\n",
    "\n",
    "# dfaway = dfaway[dfaway['DIST']!=0]\n",
    "# dfaway['DISTperMIN'] = dfaway['DIST']/dfaway['MIN']\n",
    "# dfaway.to_csv('forr1.csv',index=None)"
   ]
  },
  {
   "cell_type": "code",
   "execution_count": null,
   "id": "6b97c94f-af11-4665-83ee-75818420bf53",
   "metadata": {},
   "outputs": [],
   "source": []
  },
  {
   "cell_type": "code",
   "execution_count": null,
   "id": "e1dea72e-ccfd-41ed-b26d-0713b5725d67",
   "metadata": {},
   "outputs": [],
   "source": []
  },
  {
   "cell_type": "code",
   "execution_count": 51,
   "id": "5ac5a57e-1115-4dda-8dfb-05517b603b97",
   "metadata": {},
   "outputs": [],
   "source": [
    "#nbaapi.commonteamroster.CommonTeamRoster(team_id=testteam).get_data_frames()[0].sort_values('PLAYER_ID')"
   ]
  },
  {
   "cell_type": "code",
   "execution_count": 49,
   "id": "c5f77c99-686f-404d-bb56-77e140681fb1",
   "metadata": {},
   "outputs": [],
   "source": [
    "#nbaapi.playergamelogs.PlayerGameLogs().get_data_frames()[0]"
   ]
  },
  {
   "cell_type": "code",
   "execution_count": 50,
   "id": "92c6bfe4-f410-40d0-a002-c2a9281ebcdf",
   "metadata": {},
   "outputs": [],
   "source": [
    "#nbaapi.leaguegamelog.LeagueGameLog().get_data_frames()[0]"
   ]
  },
  {
   "cell_type": "code",
   "execution_count": null,
   "id": "b79d2153-3a39-44ca-a736-b0b719ebdbf2",
   "metadata": {},
   "outputs": [],
   "source": []
  },
  {
   "cell_type": "code",
   "execution_count": 68,
   "id": "b2a25103-5376-4523-a3a3-9e7c2299c591",
   "metadata": {},
   "outputs": [],
   "source": []
  },
  {
   "cell_type": "code",
   "execution_count": 69,
   "id": "d20c8616-b8a4-451b-a5ec-d3c8683378a0",
   "metadata": {},
   "outputs": [],
   "source": []
  },
  {
   "cell_type": "code",
   "execution_count": 71,
   "id": "03669612-55b6-4247-a2d1-81ba4dc94e95",
   "metadata": {},
   "outputs": [],
   "source": []
  },
  {
   "cell_type": "code",
   "execution_count": null,
   "id": "c104ba40-88a3-434c-81d5-febd916334e6",
   "metadata": {},
   "outputs": [],
   "source": []
  }
 ],
 "metadata": {
  "kernelspec": {
   "display_name": "Python 3 (ipykernel)",
   "language": "python",
   "name": "python3"
  },
  "language_info": {
   "codemirror_mode": {
    "name": "ipython",
    "version": 3
   },
   "file_extension": ".py",
   "mimetype": "text/x-python",
   "name": "python",
   "nbconvert_exporter": "python",
   "pygments_lexer": "ipython3",
   "version": "3.8.16"
  }
 },
 "nbformat": 4,
 "nbformat_minor": 5
}
